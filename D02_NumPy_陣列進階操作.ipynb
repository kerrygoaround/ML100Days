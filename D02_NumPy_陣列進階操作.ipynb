{
  "nbformat": 4,
  "nbformat_minor": 0,
  "metadata": {
    "colab": {
      "name": "D02 NumPy 陣列進階操作.ipynb",
      "provenance": [],
      "authorship_tag": "ABX9TyML+YQut7vAaptLnfAbz2TL",
      "include_colab_link": true
    },
    "kernelspec": {
      "name": "python3",
      "display_name": "Python 3"
    }
  },
  "cells": [
    {
      "cell_type": "markdown",
      "metadata": {
        "id": "view-in-github",
        "colab_type": "text"
      },
      "source": [
        "<a href=\"https://colab.research.google.com/github/kerrygoaround/ML100Days/blob/main/D02_NumPy_%E9%99%A3%E5%88%97%E9%80%B2%E9%9A%8E%E6%93%8D%E4%BD%9C.ipynb\" target=\"_parent\"><img src=\"https://colab.research.google.com/assets/colab-badge.svg\" alt=\"Open In Colab\"/></a>"
      ]
    },
    {
      "cell_type": "code",
      "metadata": {
        "colab": {
          "base_uri": "https://localhost:8080/",
          "height": 35
        },
        "id": "0I1dJaAUxrnr",
        "outputId": "f374f62e-7153-496e-9a62-9c905fa8171c"
      },
      "source": [
        "import numpy as np\r\n",
        "np.__version__"
      ],
      "execution_count": 1,
      "outputs": [
        {
          "output_type": "execute_result",
          "data": {
            "application/vnd.google.colaboratory.intrinsic+json": {
              "type": "string"
            },
            "text/plain": [
              "'1.19.5'"
            ]
          },
          "metadata": {
            "tags": []
          },
          "execution_count": 1
        }
      ]
    },
    {
      "cell_type": "code",
      "metadata": {
        "colab": {
          "base_uri": "https://localhost:8080/"
        },
        "id": "2zuEGGXZ5J62",
        "outputId": "da9bbac6-4569-4a58-b274-a49ec010d370"
      },
      "source": [
        "#1.將下列清單(list1)，轉成維度為(5X6)的array，順序按列填充。(hint:order=\"F\")\r\n",
        "array1 = np.array(range(30)).reshape(5,6)\r\n",
        "b=array1.ravel(order='F')\r\n",
        "print(b)"
      ],
      "execution_count": 22,
      "outputs": [
        {
          "output_type": "stream",
          "text": [
            "[ 0  6 12 18 24  1  7 13 19 25  2  8 14 20 26  3  9 15 21 27  4 10 16 22\n",
            " 28  5 11 17 23 29]\n"
          ],
          "name": "stdout"
        }
      ]
    },
    {
      "cell_type": "code",
      "metadata": {
        "colab": {
          "base_uri": "https://localhost:8080/"
        },
        "id": "6SrEQDq66Gmn",
        "outputId": "bec7d6f6-9490-4b77-89f6-29dbfb52f7de"
      },
      "source": [
        "#2.呈上題的array，找出被6除餘1的數的索引\r\n",
        "c=np.where((b%6)==1)\r\n",
        "print(c)"
      ],
      "execution_count": 32,
      "outputs": [
        {
          "output_type": "stream",
          "text": [
            "(array([5, 6, 7, 8, 9]),)\n"
          ],
          "name": "stdout"
        }
      ]
    }
  ]
}