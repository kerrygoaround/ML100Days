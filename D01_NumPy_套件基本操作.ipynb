{
  "nbformat": 4,
  "nbformat_minor": 0,
  "metadata": {
    "colab": {
      "name": "D01 NumPy 套件基本操作.ipynb",
      "provenance": [],
      "authorship_tag": "ABX9TyNSngF3ou+pkyqlC437N9Nb",
      "include_colab_link": true
    },
    "kernelspec": {
      "name": "python3",
      "display_name": "Python 3"
    }
  },
  "cells": [
    {
      "cell_type": "markdown",
      "metadata": {
        "id": "view-in-github",
        "colab_type": "text"
      },
      "source": [
        "<a href=\"https://colab.research.google.com/github/kerrygoaround/ML100Days/blob/main/D01_NumPy_%E5%A5%97%E4%BB%B6%E5%9F%BA%E6%9C%AC%E6%93%8D%E4%BD%9C.ipynb\" target=\"_parent\"><img src=\"https://colab.research.google.com/assets/colab-badge.svg\" alt=\"Open In Colab\"/></a>"
      ]
    },
    {
      "cell_type": "code",
      "metadata": {
        "colab": {
          "base_uri": "https://localhost:8080/",
          "height": 35
        },
        "id": "8h230xXzauY5",
        "outputId": "46382119-a015-4627-ed31-4a36e22b396c"
      },
      "source": [
        "import numpy as np\r\n",
        "np.__version__"
      ],
      "execution_count": 9,
      "outputs": [
        {
          "output_type": "execute_result",
          "data": {
            "application/vnd.google.colaboratory.intrinsic+json": {
              "type": "string"
            },
            "text/plain": [
              "'1.19.5'"
            ]
          },
          "metadata": {
            "tags": []
          },
          "execution_count": 9
        }
      ]
    },
    {
      "cell_type": "code",
      "metadata": {
        "colab": {
          "base_uri": "https://localhost:8080/"
        },
        "id": "14AK8cgUt1Gx",
        "outputId": "8d9533c6-858a-4228-8337-983643de9d7a"
      },
      "source": [
        "#1.生成一個等差數列，首數為0，尾數為20，公差為1的數列。\r\n",
        "a=np.arange(21)\r\n",
        "print(a)"
      ],
      "execution_count": 13,
      "outputs": [
        {
          "output_type": "stream",
          "text": [
            "[ 0  1  2  3  4  5  6  7  8  9 10 11 12 13 14 15 16 17 18 19 20]\n"
          ],
          "name": "stdout"
        }
      ]
    },
    {
      "cell_type": "code",
      "metadata": {
        "colab": {
          "base_uri": "https://localhost:8080/"
        },
        "id": "6JWsJhu5t2Ah",
        "outputId": "25b851aa-834b-4665-f836-2b10c9396620"
      },
      "source": [
        "#2.呈上題，將以上數列取出偶數。\r\n",
        "b=np.arange(2,21,2)\r\n",
        "print(b)"
      ],
      "execution_count": 16,
      "outputs": [
        {
          "output_type": "stream",
          "text": [
            "[ 2  4  6  8 10 12 14 16 18 20]\n"
          ],
          "name": "stdout"
        }
      ]
    },
    {
      "cell_type": "code",
      "metadata": {
        "colab": {
          "base_uri": "https://localhost:8080/"
        },
        "id": "bjlPJ1X8t38f",
        "outputId": "78fe0213-eaba-4c71-a4c4-d5a6833464a2"
      },
      "source": [
        "#3.呈1題，將數列取出3的倍數。\r\n",
        "c=np.arange(3,21,3)\r\n",
        "print(c)"
      ],
      "execution_count": 17,
      "outputs": [
        {
          "output_type": "stream",
          "text": [
            "[ 3  6  9 12 15 18]\n"
          ],
          "name": "stdout"
        }
      ]
    }
  ]
}